{
 "cells": [
  {
   "cell_type": "code",
   "execution_count": null,
   "metadata": {},
   "outputs": [],
   "source": []
  },
  {
   "cell_type": "markdown",
   "metadata": {},
   "source": [
    "## 总体概述\n",
    "该应用程序是一个视频播放器，支持在视频播放的时候，对当前播放的视频进行截图操作. \n",
    "\n",
    "## 开发框架与技术选型\n",
    "使用 Gradio 5.0 来快速搭建交互式的Web界面\n",
    "\n",
    "## 详细实现方案，供用户参考。\n",
    "\n",
    "1.提供一个文本输入框，让用户输入要播放的视频链接信息。  \n",
    "\n",
    "2.链接下方是开始播放按钮，点击按钮后，播放器根据链接播放视频。 \n",
    "\n",
    "3.播放器参考给出的web播放器代码实现。\n",
    "\n",
    "4.播放器支持截图操作，截图操作将截图保存到本地。\n"
   ]
  },
  {
   "cell_type": "code",
   "execution_count": 2,
   "metadata": {},
   "outputs": [
    {
     "name": "stdout",
     "output_type": "stream",
     "text": [
      "* Running on local URL:  http://127.0.0.1:7865\n",
      "\n",
      "To create a public link, set `share=True` in `launch()`.\n"
     ]
    },
    {
     "data": {
      "text/html": [
       "<div><iframe src=\"http://127.0.0.1:7865/\" width=\"100%\" height=\"500\" allow=\"autoplay; camera; microphone; clipboard-read; clipboard-write;\" frameborder=\"0\" allowfullscreen></iframe></div>"
      ],
      "text/plain": [
       "<IPython.core.display.HTML object>"
      ]
     },
     "metadata": {},
     "output_type": "display_data"
    },
    {
     "data": {
      "text/plain": []
     },
     "execution_count": 2,
     "metadata": {},
     "output_type": "execute_result"
    }
   ],
   "source": [
    "import gradio as gr\n",
    "from datetime import datetime\n",
    "import os\n",
    "\n",
    "def save_screenshot(video_frame):\n",
    "    \"\"\"保存视频截图到本地\"\"\"\n",
    "    if video_frame is None:\n",
    "        return None\n",
    "    \n",
    "    # 创建screenshots文件夹(如果不存在)\n",
    "    if not os.path.exists(\"screenshots\"):\n",
    "        os.makedirs(\"screenshots\")\n",
    "        \n",
    "    # 生成带时间戳的文件名\n",
    "    timestamp = datetime.now().strftime(\"%Y%m%d_%H%M%S\")\n",
    "    filename = f\"screenshots/screenshot_{timestamp}.jpg\"\n",
    "    \n",
    "    # 保存截图\n",
    "    return filename\n",
    "\n",
    "def video_player(video_url):\n",
    "    \"\"\"视频播放器主函数\"\"\"\n",
    "    return video_url\n",
    "\n",
    "# 创建Gradio界面\n",
    "with gr.Blocks() as app:\n",
    "    gr.Markdown(\"# 视频播放器\")\n",
    "    \n",
    "    # 视频URL输入\n",
    "    video_input = gr.Textbox(label=\"请输入视频URL\")\n",
    "    \n",
    "    # 播放按钮\n",
    "    play_button = gr.Button(\"开始播放\")\n",
    "    \n",
    "    # 视频播放器\n",
    "    video_component = gr.Video()\n",
    "    \n",
    "    # 截图按钮和显示\n",
    "    screenshot_button = gr.Button(\"截取当前画面\")\n",
    "    screenshot_output = gr.Image(label=\"截图预览\")\n",
    "    \n",
    "    # 事件处理\n",
    "    play_button.click(\n",
    "        fn=video_player,\n",
    "        inputs=video_input,\n",
    "        outputs=video_component\n",
    "    )\n",
    "    \n",
    "    screenshot_button.click(\n",
    "        fn=save_screenshot,\n",
    "        inputs=video_component,\n",
    "        outputs=screenshot_output\n",
    "    )\n",
    "\n",
    "# 启动应用\n",
    "app.launch()"
   ]
  }
 ],
 "metadata": {
  "kernelspec": {
   "display_name": "byteplus_video",
   "language": "python",
   "name": "python3"
  },
  "language_info": {
   "codemirror_mode": {
    "name": "ipython",
    "version": 3
   },
   "file_extension": ".py",
   "mimetype": "text/x-python",
   "name": "python",
   "nbconvert_exporter": "python",
   "pygments_lexer": "ipython3",
   "version": "3.11.10"
  }
 },
 "nbformat": 4,
 "nbformat_minor": 2
}
